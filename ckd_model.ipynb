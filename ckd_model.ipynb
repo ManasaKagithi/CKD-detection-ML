{
  "nbformat": 4,
  "nbformat_minor": 0,
  "metadata": {
    "colab": {
      "provenance": [],
      "authorship_tag": "ABX9TyN8FMGPiKyiVHxrgdur8y+Y",
      "include_colab_link": true
    },
    "kernelspec": {
      "name": "python3",
      "display_name": "Python 3"
    },
    "language_info": {
      "name": "python"
    }
  },
  "cells": [
    {
      "cell_type": "markdown",
      "metadata": {
        "id": "view-in-github",
        "colab_type": "text"
      },
      "source": [
        "<a href=\"https://colab.research.google.com/github/ManasaKagithi/CKD-detection-ML/blob/main/ckd_model.ipynb\" target=\"_parent\"><img src=\"https://colab.research.google.com/assets/colab-badge.svg\" alt=\"Open In Colab\"/></a>"
      ]
    },
    {
      "cell_type": "code",
      "execution_count": 53,
      "metadata": {
        "id": "7GmeY6pCthg3"
      },
      "outputs": [],
      "source": [
        "import pandas as pd\n",
        "import numpy as np\n",
        "from sklearn.model_selection import train_test_split\n",
        "from sklearn.preprocessing import LabelEncoder\n",
        "from sklearn.metrics import accuracy_score, classification_report\n",
        "from sklearn.ensemble import RandomForestClassifier"
      ]
    },
    {
      "cell_type": "code",
      "source": [
        "# Importing the data\n",
        "data = pd.read_csv(r'/content/kidney_disease.csv')\n",
        "data=data.drop(columns='id',axis=1)"
      ],
      "metadata": {
        "id": "WfsSir2XDFuE"
      },
      "execution_count": 54,
      "outputs": []
    },
    {
      "cell_type": "code",
      "source": [
        "# Convert problematic columns to numeric\n",
        "for col in ['pcv', 'wc', 'rc']:\n",
        "    data[col] = pd.to_numeric(data[col], errors='coerce')"
      ],
      "metadata": {
        "id": "rO-MXAikE_jM"
      },
      "execution_count": 55,
      "outputs": []
    },
    {
      "cell_type": "code",
      "source": [
        "# Clean inconsistent strings in categorical data\n",
        "data['dm'] = data['dm'].replace({'\\tno': 'no', '\\tyes': 'yes', ' yes': 'yes'})\n",
        "data['cad'] = data['cad'].replace('\\tno', 'no')\n",
        "data['classification'] = data['classification'].replace('ckd\\t', 'ckd')"
      ],
      "metadata": {
        "id": "UaipFlgoFM4y"
      },
      "execution_count": 56,
      "outputs": []
    },
    {
      "cell_type": "code",
      "source": [
        "# Encode target variable\n",
        "data['classification'] = data['classification'].map({'ckd': 1, 'notckd': 0})"
      ],
      "metadata": {
        "id": "WXW45T9dtv2d"
      },
      "execution_count": 57,
      "outputs": []
    },
    {
      "cell_type": "code",
      "source": [
        "# Identify column types\n",
        "cat_cols = [col for col in data.columns if data[col].dtype == 'object']\n",
        "num_cols = [col for col in data.columns if data[col].dtype in ['float64', 'int64']]"
      ],
      "metadata": {
        "id": "9-pYk4C2uHaU"
      },
      "execution_count": 58,
      "outputs": []
    },
    {
      "cell_type": "code",
      "source": [
        "# Fill numerical missing values using random sampling\n",
        "for col in num_cols:\n",
        "    if data[col].isnull().sum() > 0:\n",
        "        sampled = data[col].dropna().sample(data[col].isnull().sum(), random_state=42)\n",
        "        sampled.index = data[data[col].isnull()].index\n",
        "        data.loc[data[col].isnull(), col] = sampled"
      ],
      "metadata": {
        "id": "ZTDCsoxtvW6Z"
      },
      "execution_count": 59,
      "outputs": []
    },
    {
      "cell_type": "code",
      "source": [
        "# Fill categorical missing values using mode\n",
        "for col in cat_cols:\n",
        "    data[col] = data[col].fillna(data[col].mode()[0])"
      ],
      "metadata": {
        "id": "XvKWflaZzSh3"
      },
      "execution_count": 60,
      "outputs": []
    },
    {
      "cell_type": "code",
      "source": [
        "# Encode categorical features\n",
        "le = LabelEncoder()\n",
        "for col in cat_cols:\n",
        "    data[col] = le.fit_transform(data[col])\n"
      ],
      "metadata": {
        "id": "HmHPg3yozqpG"
      },
      "execution_count": 61,
      "outputs": []
    },
    {
      "cell_type": "code",
      "source": [
        "#Add Unique Feature: Renal Burden Index (RBI)\n",
        "data['rbi'] = (data['bu'] + data['sc'] + data['bgr']) / (data['hemo'] * data['sg'])\n",
        "data['rbi'] = data['rbi'].replace([np.inf, -np.inf], np.nan)\n",
        "data['rbi'] = data['rbi'].fillna(data['rbi'].median())"
      ],
      "metadata": {
        "id": "Z3QXwpFb3DYT"
      },
      "execution_count": 62,
      "outputs": []
    },
    {
      "cell_type": "code",
      "source": [
        "# Define features and target\n",
        "X = data.drop(columns='classification')\n",
        "y = data['classification']\n"
      ],
      "metadata": {
        "id": "sAaIc9zW5LGP"
      },
      "execution_count": 63,
      "outputs": []
    },
    {
      "cell_type": "code",
      "source": [
        "# Split dataset\n",
        "X_train, X_test, y_train, y_test = train_test_split(X, y, test_size=0.2, random_state=42)\n"
      ],
      "metadata": {
        "id": "RPd7N0Cp5QOx"
      },
      "execution_count": 64,
      "outputs": []
    },
    {
      "cell_type": "code",
      "source": [
        "# Train Random Forest (best performing model)\n",
        "model = RandomForestClassifier(n_estimators=100, random_state=42)\n",
        "model.fit(X_train, y_train)\n",
        "y_pred = model.predict(X_test)"
      ],
      "metadata": {
        "id": "9DxG8U-iGMR3"
      },
      "execution_count": 65,
      "outputs": []
    },
    {
      "cell_type": "code",
      "source": [
        "# Evaluate performance\n",
        "accuracy = accuracy_score(y_test, y_pred)\n",
        "report = classification_report(y_test, y_pred, output_dict=True)\n",
        "feature_importance = pd.Series(model.feature_importances_, index=X.columns).sort_values(ascending=False)\n",
        "accuracy, feature_importance.head(10), pd.DataFrame(report).T"
      ],
      "metadata": {
        "colab": {
          "base_uri": "https://localhost:8080/"
        },
        "id": "9TZjF4P8FoEy",
        "outputId": "2e3bbfe4-6cb3-475e-f580-e1b7650dc44e"
      },
      "execution_count": 68,
      "outputs": [
        {
          "output_type": "execute_result",
          "data": {
            "text/plain": [
              "(1.0,\n",
              " hemo    0.183657\n",
              " sg      0.183420\n",
              " rbi     0.161870\n",
              " sc      0.107341\n",
              " al      0.099979\n",
              " pcv     0.082180\n",
              " rc      0.029750\n",
              " dm      0.029398\n",
              " bgr     0.021131\n",
              " htn     0.020466\n",
              " dtype: float64,\n",
              "               precision  recall  f1-score  support\n",
              " 0                   1.0     1.0       1.0     28.0\n",
              " 1                   1.0     1.0       1.0     52.0\n",
              " accuracy            1.0     1.0       1.0      1.0\n",
              " macro avg           1.0     1.0       1.0     80.0\n",
              " weighted avg        1.0     1.0       1.0     80.0)"
            ]
          },
          "metadata": {},
          "execution_count": 68
        }
      ]
    }
  ]
}